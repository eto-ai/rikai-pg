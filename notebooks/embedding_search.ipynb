{
 "cells": [
  {
   "cell_type": "markdown",
   "id": "e4af56f4-d7da-42d0-ab0b-9439936d4028",
   "metadata": {},
   "source": [
    "# Embedding Search in Postgres\n",
    "\n",
    "\n",
    "Start the postgres container, run\n",
    "\n",
    "```sh\n",
    "$ make run\n",
    "```"
   ]
  },
  {
   "cell_type": "code",
   "execution_count": 1,
   "id": "a348a203-6ec3-477f-9cc8-c05c3acc9926",
   "metadata": {},
   "outputs": [],
   "source": [
    "# Install dependencies for the jupyter notebooks\n",
    "#\n",
    "# !pip install sqlalchemy psycopg2 pandas"
   ]
  },
  {
   "cell_type": "code",
   "execution_count": 2,
   "id": "98f790fa-89c5-4be7-96a0-e450b6bbeb62",
   "metadata": {},
   "outputs": [
    {
     "data": {
      "text/plain": [
       "<sqlalchemy.engine.cursor.LegacyCursorResult at 0x7fc814a902e0>"
      ]
     },
     "execution_count": 2,
     "metadata": {},
     "output_type": "execute_result"
    }
   ],
   "source": [
    "from sqlalchemy import create_engine\n",
    "import pandas as pd\n",
    "\n",
    "engine = create_engine(f'postgresql://postgres@localhost:5432/postgres?sslmode=disable')\n",
    "\n",
    "def execute(query: str):\n",
    "    \"\"\"Help function to execute the raw SQL statement to demonstrate the ML capability\"\"\"\n",
    "    with engine.connect() as conn:\n",
    "        with conn.begin():\n",
    "            return conn.execute(query)\n",
    "\n",
    "# Load Rikai pg extensions\n",
    "execute(\"CREATE EXTENSION IF NOT EXISTS plpython3u;\")\n",
    "execute(\"CREATE EXTENSION IF NOT EXISTS rikai\")\n"
   ]
  },
  {
   "cell_type": "markdown",
   "id": "26b5c73a-dd2d-4999-9b90-18a3e6b06511",
   "metadata": {},
   "source": [
    "## We've prepared a simple computer vision datasets."
   ]
  },
  {
   "cell_type": "code",
   "execution_count": 3,
   "id": "a38432b3-5f86-4246-9c53-2b8a49b7f4a3",
   "metadata": {},
   "outputs": [
    {
     "data": {
      "text/html": [
       "<div>\n",
       "<style scoped>\n",
       "    .dataframe tbody tr th:only-of-type {\n",
       "        vertical-align: middle;\n",
       "    }\n",
       "\n",
       "    .dataframe tbody tr th {\n",
       "        vertical-align: top;\n",
       "    }\n",
       "\n",
       "    .dataframe thead th {\n",
       "        text-align: right;\n",
       "    }\n",
       "</style>\n",
       "<table border=\"1\" class=\"dataframe\">\n",
       "  <thead>\n",
       "    <tr style=\"text-align: right;\">\n",
       "      <th></th>\n",
       "      <th>image_id</th>\n",
       "      <th>image</th>\n",
       "    </tr>\n",
       "  </thead>\n",
       "  <tbody>\n",
       "    <tr>\n",
       "      <th>0</th>\n",
       "      <td>1</td>\n",
       "      <td>(http://farm2.staticflickr.com/1129/4726871278...</td>\n",
       "    </tr>\n",
       "    <tr>\n",
       "      <th>1</th>\n",
       "      <td>2</td>\n",
       "      <td>(http://farm4.staticflickr.com/3726/9457732891...</td>\n",
       "    </tr>\n",
       "  </tbody>\n",
       "</table>\n",
       "</div>"
      ],
      "text/plain": [
       "   image_id                                              image\n",
       "0         1  (http://farm2.staticflickr.com/1129/4726871278...\n",
       "1         2  (http://farm4.staticflickr.com/3726/9457732891..."
      ]
     },
     "execution_count": 3,
     "metadata": {},
     "output_type": "execute_result"
    }
   ],
   "source": [
    "pd.read_sql(\"\"\"SELECT * FROM images\"\"\", con=engine)"
   ]
  },
  {
   "cell_type": "markdown",
   "id": "4410dba0-82a5-41fc-a745-e4d5da59a3e6",
   "metadata": {},
   "source": [
    "# Show all the pre-populated models"
   ]
  },
  {
   "cell_type": "code",
   "execution_count": 4,
   "id": "0043b31b-050d-4a0b-9424-ada83dcdaa0e",
   "metadata": {},
   "outputs": [
    {
     "data": {
      "text/html": [
       "<div>\n",
       "<style scoped>\n",
       "    .dataframe tbody tr th:only-of-type {\n",
       "        vertical-align: middle;\n",
       "    }\n",
       "\n",
       "    .dataframe tbody tr th {\n",
       "        vertical-align: top;\n",
       "    }\n",
       "\n",
       "    .dataframe thead th {\n",
       "        text-align: right;\n",
       "    }\n",
       "</style>\n",
       "<table border=\"1\" class=\"dataframe\">\n",
       "  <thead>\n",
       "    <tr style=\"text-align: right;\">\n",
       "      <th></th>\n",
       "      <th>name</th>\n",
       "      <th>flavor</th>\n",
       "      <th>model_type</th>\n",
       "      <th>uri</th>\n",
       "      <th>options</th>\n",
       "    </tr>\n",
       "  </thead>\n",
       "  <tbody>\n",
       "    <tr>\n",
       "      <th>0</th>\n",
       "      <td>ssd</td>\n",
       "      <td>pytorch</td>\n",
       "      <td>ssd</td>\n",
       "      <td>None</td>\n",
       "      <td>{}</td>\n",
       "    </tr>\n",
       "    <tr>\n",
       "      <th>1</th>\n",
       "      <td>embedding</td>\n",
       "      <td>pytorch</td>\n",
       "      <td>features</td>\n",
       "      <td>None</td>\n",
       "      <td>{}</td>\n",
       "    </tr>\n",
       "  </tbody>\n",
       "</table>\n",
       "</div>"
      ],
      "text/plain": [
       "        name   flavor model_type   uri options\n",
       "0        ssd  pytorch        ssd  None      {}\n",
       "1  embedding  pytorch   features  None      {}"
      ]
     },
     "execution_count": 4,
     "metadata": {},
     "output_type": "execute_result"
    }
   ],
   "source": [
    "pd.read_sql(\"SELECT * FROM ml.models\", con=engine)"
   ]
  },
  {
   "cell_type": "markdown",
   "id": "f7f4bbc0-c6ef-47e7-bb6b-b609673b6745",
   "metadata": {},
   "source": [
    "## Lets make some embeddings using pre-trained ResNet (PyTorch)"
   ]
  },
  {
   "cell_type": "code",
   "execution_count": 5,
   "id": "881477cb-a5d8-4c03-8ca0-987510690523",
   "metadata": {},
   "outputs": [
    {
     "data": {
      "text/html": [
       "<div>\n",
       "<style scoped>\n",
       "    .dataframe tbody tr th:only-of-type {\n",
       "        vertical-align: middle;\n",
       "    }\n",
       "\n",
       "    .dataframe tbody tr th {\n",
       "        vertical-align: top;\n",
       "    }\n",
       "\n",
       "    .dataframe thead th {\n",
       "        text-align: right;\n",
       "    }\n",
       "</style>\n",
       "<table border=\"1\" class=\"dataframe\">\n",
       "  <thead>\n",
       "    <tr style=\"text-align: right;\">\n",
       "      <th></th>\n",
       "      <th>image_id</th>\n",
       "      <th>image</th>\n",
       "      <th>embedding</th>\n",
       "    </tr>\n",
       "  </thead>\n",
       "  <tbody>\n",
       "    <tr>\n",
       "      <th>0</th>\n",
       "      <td>1</td>\n",
       "      <td>(http://farm2.staticflickr.com/1129/4726871278...</td>\n",
       "      <td>[0.07276332, 0.57534903, 0.40776607, 0.2994129...</td>\n",
       "    </tr>\n",
       "    <tr>\n",
       "      <th>1</th>\n",
       "      <td>2</td>\n",
       "      <td>(http://farm4.staticflickr.com/3726/9457732891...</td>\n",
       "      <td>[0.26861557, 0.58947176, 0.30805334, 0.5611011...</td>\n",
       "    </tr>\n",
       "  </tbody>\n",
       "</table>\n",
       "</div>"
      ],
      "text/plain": [
       "   image_id                                              image  \\\n",
       "0         1  (http://farm2.staticflickr.com/1129/4726871278...   \n",
       "1         2  (http://farm4.staticflickr.com/3726/9457732891...   \n",
       "\n",
       "                                           embedding  \n",
       "0  [0.07276332, 0.57534903, 0.40776607, 0.2994129...  \n",
       "1  [0.26861557, 0.58947176, 0.30805334, 0.5611011...  "
      ]
     },
     "execution_count": 5,
     "metadata": {},
     "output_type": "execute_result"
    }
   ],
   "source": [
    "execute(\"ALTER TABLE images ADD COLUMN embedding real[]\")\n",
    "execute(\"UPDATE images SET embedding = ml.embedding(image);\")\n",
    "pd.read_sql(\"SELECT * FROM images\", con=engine)"
   ]
  },
  {
   "cell_type": "code",
   "execution_count": 6,
   "id": "d45dc55e-fe25-43ca-ad6c-3efcbc2e4772",
   "metadata": {},
   "outputs": [
    {
     "data": {
      "text/html": [
       "<div>\n",
       "<style scoped>\n",
       "    .dataframe tbody tr th:only-of-type {\n",
       "        vertical-align: middle;\n",
       "    }\n",
       "\n",
       "    .dataframe tbody tr th {\n",
       "        vertical-align: top;\n",
       "    }\n",
       "\n",
       "    .dataframe thead th {\n",
       "        text-align: right;\n",
       "    }\n",
       "</style>\n",
       "<table border=\"1\" class=\"dataframe\">\n",
       "  <thead>\n",
       "    <tr style=\"text-align: right;\">\n",
       "      <th></th>\n",
       "      <th>name</th>\n",
       "      <th>flavor</th>\n",
       "      <th>model_type</th>\n",
       "      <th>uri</th>\n",
       "      <th>options</th>\n",
       "    </tr>\n",
       "  </thead>\n",
       "  <tbody>\n",
       "    <tr>\n",
       "      <th>0</th>\n",
       "      <td>ssd</td>\n",
       "      <td>pytorch</td>\n",
       "      <td>ssd</td>\n",
       "      <td>None</td>\n",
       "      <td>{}</td>\n",
       "    </tr>\n",
       "    <tr>\n",
       "      <th>1</th>\n",
       "      <td>embedding</td>\n",
       "      <td>pytorch</td>\n",
       "      <td>features</td>\n",
       "      <td>None</td>\n",
       "      <td>{}</td>\n",
       "    </tr>\n",
       "    <tr>\n",
       "      <th>2</th>\n",
       "      <td>pca</td>\n",
       "      <td>sklearn</td>\n",
       "      <td>pca</td>\n",
       "      <td>/tmp/models/pca/ae869207-554e-4d72-ab81-41d391...</td>\n",
       "      <td>None</td>\n",
       "    </tr>\n",
       "  </tbody>\n",
       "</table>\n",
       "</div>"
      ],
      "text/plain": [
       "        name   flavor model_type  \\\n",
       "0        ssd  pytorch        ssd   \n",
       "1  embedding  pytorch   features   \n",
       "2        pca  sklearn        pca   \n",
       "\n",
       "                                                 uri options  \n",
       "0                                               None      {}  \n",
       "1                                               None      {}  \n",
       "2  /tmp/models/pca/ae869207-554e-4d72-ab81-41d391...    None  "
      ]
     },
     "execution_count": 6,
     "metadata": {},
     "output_type": "execute_result"
    }
   ],
   "source": [
    "# Train a Sklearn PCA model and will use it for dimention reduction.\n",
    "execute(\"SELECT ml.train('pca', 'pca', 'images', 'embedding')\")\n",
    "pd.read_sql(\"SELECT * FROM ml.models\", con=engine)"
   ]
  },
  {
   "cell_type": "markdown",
   "id": "d66c1e5b-537f-4327-ad46-9ec54749a725",
   "metadata": {},
   "source": [
    "# We can then use a vector index to index the embeddings. \n",
    "\n",
    "For the simplicity, we are using `pgvector` to demonstrate the capabilty."
   ]
  },
  {
   "cell_type": "code",
   "execution_count": 7,
   "id": "f99e2254-e4a2-443c-83b1-2c5d9fa505d9",
   "metadata": {},
   "outputs": [
    {
     "data": {
      "text/plain": [
       "<sqlalchemy.engine.cursor.LegacyCursorResult at 0x7fc814b08f40>"
      ]
     },
     "execution_count": 7,
     "metadata": {},
     "output_type": "execute_result"
    }
   ],
   "source": [
    "execute(\"CREATE EXTENSION IF NOT EXISTS vector\")\n",
    "execute(\"ALTER TABLE images ADD COLUMN idx vector(2)\")"
   ]
  },
  {
   "cell_type": "code",
   "execution_count": 8,
   "id": "e8700477-cf47-4d20-968b-889394bcf664",
   "metadata": {},
   "outputs": [
    {
     "data": {
      "text/plain": [
       "<sqlalchemy.engine.cursor.LegacyCursorResult at 0x7fc814b0a110>"
      ]
     },
     "execution_count": 8,
     "metadata": {},
     "output_type": "execute_result"
    }
   ],
   "source": [
    "# Build the vector embedding index\n",
    "\n",
    "execute(\"CREATE INDEX ON images USING ivfflat (idx vector_l2_ops);\")\n",
    "\n",
    "# Populate the index with embeddinged (after PCA)\n",
    "execute(\"UPDATE images SET idx = ml.pca(embedding);\")"
   ]
  },
  {
   "cell_type": "code",
   "execution_count": 9,
   "id": "fd7c4ce2-6c61-4b9a-940f-a0f65a94c7a7",
   "metadata": {},
   "outputs": [
    {
     "data": {
      "text/html": [
       "<div>\n",
       "<style scoped>\n",
       "    .dataframe tbody tr th:only-of-type {\n",
       "        vertical-align: middle;\n",
       "    }\n",
       "\n",
       "    .dataframe tbody tr th {\n",
       "        vertical-align: top;\n",
       "    }\n",
       "\n",
       "    .dataframe thead th {\n",
       "        text-align: right;\n",
       "    }\n",
       "</style>\n",
       "<table border=\"1\" class=\"dataframe\">\n",
       "  <thead>\n",
       "    <tr style=\"text-align: right;\">\n",
       "      <th></th>\n",
       "      <th>image</th>\n",
       "    </tr>\n",
       "  </thead>\n",
       "  <tbody>\n",
       "    <tr>\n",
       "      <th>0</th>\n",
       "      <td>(http://farm4.staticflickr.com/3726/9457732891...</td>\n",
       "    </tr>\n",
       "  </tbody>\n",
       "</table>\n",
       "</div>"
      ],
      "text/plain": [
       "                                               image\n",
       "0  (http://farm4.staticflickr.com/3726/9457732891..."
      ]
     },
     "execution_count": 9,
     "metadata": {},
     "output_type": "execute_result"
    }
   ],
   "source": [
    "# Search based on the embedding\n",
    "\n",
    "pd.read_sql(\"SELECT image FROM images ORDER BY idx <=> '[1, 2]' limit 1;\", con=engine)"
   ]
  },
  {
   "cell_type": "code",
   "execution_count": null,
   "id": "b3205a56-fe75-40bd-9c4a-23272a45eacc",
   "metadata": {},
   "outputs": [],
   "source": []
  }
 ],
 "metadata": {
  "kernelspec": {
   "display_name": "Python 3 (ipykernel)",
   "language": "python",
   "name": "python3"
  },
  "language_info": {
   "codemirror_mode": {
    "name": "ipython",
    "version": 3
   },
   "file_extension": ".py",
   "mimetype": "text/x-python",
   "name": "python",
   "nbconvert_exporter": "python",
   "pygments_lexer": "ipython3",
   "version": "3.10.4"
  }
 },
 "nbformat": 4,
 "nbformat_minor": 5
}
